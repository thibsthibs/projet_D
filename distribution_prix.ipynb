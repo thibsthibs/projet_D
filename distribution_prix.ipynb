{
 "cells": [
  {
   "cell_type": "code",
   "execution_count": 27,
   "id": "a0e75796",
   "metadata": {},
   "outputs": [],
   "source": [
    "import pandas as pd\n",
    "import numpy as np\n",
    "import math\n",
    "import matplotlib.pyplot as plt\n",
    "import seaborn as sns\n",
    "df=pd.read_csv(\"coord_gps.csv\")\n",
    "\n",
    "prix_df=pd.read_csv(\"Data_prix.csv\")\n",
    "prix_df=prix_df.fillna(1000)\n",
    "mat_coor=df.to_numpy()\n",
    "\n",
    "mat_prix=prix_df.to_numpy()\n",
    "\n",
    "mat_dist=np.zeros((43,43))\n",
    "def degreesToRadians(degrees) :\n",
    "  \n",
    "    return degrees * math.pi / 180\n",
    "\n",
    "def distanceInKmBetweenEarthCoordinates(lat1, lon1, lat2, lon2) :\n",
    "   \n",
    "    earthRadiusKm = 6371\n",
    "\n",
    "    dLat = degreesToRadians(lat2-lat1)\n",
    "    dLon = degreesToRadians(lon2-lon1)\n",
    "\n",
    "    lat1 = degreesToRadians(lat1)\n",
    "    lat2 = degreesToRadians(lat2)\n",
    "\n",
    "    a = math.sin(dLat/2) * math.sin(dLat/2) + math.sin(dLon/2) * math.sin(dLon/2) * math.cos(lat1) * math.cos(lat2) \n",
    "    c = 2 * math.atan2(math.sqrt(a), math.sqrt(1-a)) \n",
    "  \n",
    "    return earthRadiusKm * c\n",
    "for i in range (43):\n",
    "    la1=mat_coor[i,4]\n",
    "    lo1=mat_coor[i,3]\n",
    "    for j in range (43):\n",
    "        la2=mat_coor[j,4]\n",
    "        lo2=mat_coor[j,3]\n",
    "        d=distanceInKmBetweenEarthCoordinates(la1, lo1, la2, lo2)\n",
    "        mat_dist[i,j]=d\n",
    "mat_prix1 = np.delete(mat_prix, 0, 1)\n",
    "#ici i désigne la portion d'autauroute i qui est définie comme la route entre la gare d'index i et la gare d'index i+1#\n",
    "def indexversnom(i):\n",
    "    if i<=43:\n",
    "        \n",
    "        return str(df[\"NOMGARE\"][i])  \n",
    "    \n",
    "    else: \n",
    "        return \"veuillez mettre un entier inférieur ou égal à 43\"\n",
    "def distribution_prix(i):\n",
    "    distrib_i=[]\n",
    "    \n",
    "    for k in range (i):\n",
    "        v=0\n",
    "        for j in range (i,43):\n",
    "            if k==j:\n",
    "                v=v\n",
    "            else:\n",
    "                if mat_prix1[k,j]!=1000:\n",
    "                    ps=mat_prix1[k,j]\n",
    "                    ds=mat_dist[k,j]\n",
    "                    tam=ps/ds\n",
    "                    distrib_i=distrib_i+[tam]\n",
    "                    if mat_prix1[j,k]!=1000:\n",
    "                        ps1=mat_prix1[k,j]\n",
    "                        ds1=mat_dist[k,j]\n",
    "                        tam1=ps/ds\n",
    "                        distrib_i=distrib_i+[tam1]\n",
    "    return (distrib_i)\n",
    "\n",
    "\n",
    "\n",
    "            \n",
    "   \n",
    "def plotdistribution(i):\n",
    "    \n",
    "    return(sns.distplot(distribution_prix(i),rug=True))\n",
    "                      \n",
    "                  \n",
    "        \n",
    "    \n",
    "\n",
    "                           \n",
    "   \n",
    "    \n",
    "    "
   ]
  },
  {
   "cell_type": "code",
   "execution_count": 7,
   "id": "22fd30fb",
   "metadata": {},
   "outputs": [
    {
     "data": {
      "text/plain": [
       "'Peage de Montpellier St-Jean'"
      ]
     },
     "execution_count": 7,
     "metadata": {},
     "output_type": "execute_result"
    }
   ],
   "source": []
  },
  {
   "cell_type": "code",
   "execution_count": 11,
   "id": "d114ca27",
   "metadata": {},
   "outputs": [],
   "source": []
  },
  {
   "cell_type": "code",
   "execution_count": null,
   "id": "9e8b6447",
   "metadata": {},
   "outputs": [],
   "source": []
  },
  {
   "cell_type": "code",
   "execution_count": null,
   "id": "f2a818b2",
   "metadata": {},
   "outputs": [],
   "source": []
  },
  {
   "cell_type": "code",
   "execution_count": null,
   "id": "f5e6b720",
   "metadata": {},
   "outputs": [],
   "source": []
  }
 ],
 "metadata": {
  "kernelspec": {
   "display_name": "Python 3",
   "language": "python",
   "name": "python3"
  },
  "language_info": {
   "codemirror_mode": {
    "name": "ipython",
    "version": 3
   },
   "file_extension": ".py",
   "mimetype": "text/x-python",
   "name": "python",
   "nbconvert_exporter": "python",
   "pygments_lexer": "ipython3",
   "version": "3.8.8"
  }
 },
 "nbformat": 4,
 "nbformat_minor": 5
}
