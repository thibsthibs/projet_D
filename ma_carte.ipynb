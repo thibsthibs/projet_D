{
 "cells": [
  {
   "cell_type": "code",
   "execution_count": 1,
   "id": "9252511a",
   "metadata": {},
   "outputs": [],
   "source": [
    "import pandas as pd\n",
    "import numpy as np\n",
    "import math\n",
    "import matplotlib.pyplot as plt\n",
    "import seaborn as sns\n",
    "import folium"
   ]
  },
  {
   "cell_type": "code",
   "execution_count": 8,
   "id": "696f5b37",
   "metadata": {},
   "outputs": [],
   "source": [
    "ma_carte=folium.Map(location=[43.610769,3.876716],zoom_start=7)\n",
    "ma_carte.save(\"carte1.html\")\n",
    "df=pd.read_csv(\"coord_gps.csv\")\n",
    "prix_df=pd.read_csv(\"Data_prix.csv\")\n",
    "\n",
    "\n",
    "\n",
    "mat_coor=df.to_numpy()\n",
    "\n"
   ]
  },
  {
   "cell_type": "code",
   "execution_count": 11,
   "id": "69d6ea14",
   "metadata": {},
   "outputs": [
    {
     "data": {
      "text/plain": [
       "[(43.654448, 3.992643),\n",
       " (43.606631, 3.933571),\n",
       " (43.587197, 3.893626),\n",
       " (43.573942, 3.875141),\n",
       " (43.564813, 3.835266),\n",
       " (43.56321197997596, 3.832152851175532),\n",
       " (43.48122735717295, 3.683459688948031),\n",
       " (43.37686025015687, 3.415880824819294),\n",
       " (43.3432572198855, 3.2885692228136043),\n",
       " (43.30366439969685, 3.2229492234270127),\n",
       " (43.17658759196941, 3.034479741724844),\n",
       " (43.16306781794761, 2.9938759616687687),\n",
       " (43.03324744634108, 2.952680247507517),\n",
       " (42.93907971549383, 2.9698643577185457),\n",
       " (42.78280442962276, 2.895039492321414),\n",
       " (42.6641690342507, 2.8613664204239813),\n",
       " (42.52525130045104, 2.8198963845755936),\n",
       " (42.52788008574573, 2.8213287503769697),\n",
       " (42.52525130045104, 2.8198963845755936),\n",
       " (42.46467, 2.865466),\n",
       " (43.16889563758959, 2.741912270324747),\n",
       " (43.1946064250563, 2.419899809802155),\n",
       " (43.19487648956186, 2.3034122460909554),\n",
       " (43.23639382092863, 2.097387263014391),\n",
       " (43.28841170379598, 1.9450172595926865),\n",
       " (43.39605815569464, 1.6933276863029996),\n",
       " (43.38569743065547, 1.6219986708071876),\n",
       " (43.23520465874421, 1.6411430845593658),\n",
       " (43.15416471824379, 1.6157244295701825),\n",
       " (43.147901, 1.617546),\n",
       " (43.134852, 1.626227),\n",
       " (43.460656, 1.584108),\n",
       " (43.545984, 1.499979),\n",
       " (43.557954, 1.492243),\n",
       " (43.545984, 1.499979),\n",
       " (43.57254, 1.494927),\n",
       " (43.59388, 1.493604),\n",
       " (43.607203, 1.484764),\n",
       " (43.627612, 1.47906),\n",
       " (43.644788, 1.469016),\n",
       " (43.646845, 1.455103),\n",
       " (43.647562, 1.439821)]"
      ]
     },
     "execution_count": 11,
     "metadata": {},
     "output_type": "execute_result"
    }
   ],
   "source": [
    "points=[]\n",
    "for i in range (42):\n",
    "    points.append((mat_coor[i,4],mat_coor[i,3]))\n",
    "    \n",
    "\n",
    "    \n",
    "    "
   ]
  },
  {
   "cell_type": "code",
   "execution_count": 12,
   "id": "56abd8ec",
   "metadata": {},
   "outputs": [
    {
     "data": {
      "text/plain": [
       "<folium.vector_layers.PolyLine at 0x1fdbcefec70>"
      ]
     },
     "execution_count": 12,
     "metadata": {},
     "output_type": "execute_result"
    }
   ],
   "source": [
    "folium.PolyLine(points, color=\"red\", weight=2.5, opacity=1).add_to(ma_carte)"
   ]
  },
  {
   "cell_type": "code",
   "execution_count": 13,
   "id": "3540a38a",
   "metadata": {},
   "outputs": [],
   "source": [
    "ma_carte.save(\"carte1.html\")"
   ]
  },
  {
   "cell_type": "code",
   "execution_count": null,
   "id": "d3d5fe9c",
   "metadata": {},
   "outputs": [],
   "source": []
  }
 ],
 "metadata": {
  "kernelspec": {
   "display_name": "Python 3",
   "language": "python",
   "name": "python3"
  },
  "language_info": {
   "codemirror_mode": {
    "name": "ipython",
    "version": 3
   },
   "file_extension": ".py",
   "mimetype": "text/x-python",
   "name": "python",
   "nbconvert_exporter": "python",
   "pygments_lexer": "ipython3",
   "version": "3.8.8"
  }
 },
 "nbformat": 4,
 "nbformat_minor": 5
}
